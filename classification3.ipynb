{
 "cells": [
  {
   "cell_type": "code",
   "execution_count": 1,
   "id": "17693fc2",
   "metadata": {},
   "outputs": [],
   "source": [
    "# imports\n",
    "import numpy as np\n",
    "import matplotlib.pyplot as plt\n",
    "import pandas as pd\n",
    "\n",
    "\n",
    "def load_data(path, header):\n",
    "    marks_df = pd.read_csv(path, header=header)\n",
    "    return marks_df"
   ]
  },
  {
   "cell_type": "code",
   "execution_count": 2,
   "id": "77b163b2",
   "metadata": {},
   "outputs": [],
   "source": [
    "data = load_data(\"marks.txt\", None)"
   ]
  },
  {
   "cell_type": "code",
   "execution_count": 3,
   "id": "3dbfb905",
   "metadata": {},
   "outputs": [
    {
     "name": "stdout",
     "output_type": "stream",
     "text": [
      "            0          1  2\n",
      "0   34.623660  78.024693  0\n",
      "1   30.286711  43.894998  0\n",
      "2   35.847409  72.902198  0\n",
      "3   60.182599  86.308552  1\n",
      "4   79.032736  75.344376  1\n",
      "..        ...        ... ..\n",
      "95  83.489163  48.380286  1\n",
      "96  42.261701  87.103851  1\n",
      "97  99.315009  68.775409  1\n",
      "98  55.340018  64.931938  1\n",
      "99  74.775893  89.529813  1\n",
      "\n",
      "[100 rows x 3 columns]\n"
     ]
    }
   ],
   "source": [
    "print(data)"
   ]
  },
  {
   "cell_type": "code",
   "execution_count": 4,
   "id": "1cc0c5a0",
   "metadata": {},
   "outputs": [],
   "source": [
    "# X = feature values, all the columns except the last column\n",
    "X = data.iloc[:, :-1]\n",
    "\n",
    "# y = target values, last column of the data frame\n",
    "y = data.iloc[:, -1]\n",
    "    "
   ]
  },
  {
   "cell_type": "code",
   "execution_count": 7,
   "id": "e18879d9",
   "metadata": {},
   "outputs": [],
   "source": [
    "\n",
    "# filter out the applicants that got admitted\n",
    "admitted = data.loc[y == 1]\n",
    "\n",
    "# filter out the applicants that din't get admission\n",
    "not_admitted = data.loc[y == 0]"
   ]
  },
  {
   "cell_type": "code",
   "execution_count": 8,
   "id": "055ab4d3",
   "metadata": {},
   "outputs": [
    {
     "data": {
      "image/png": "[encoded data removed]",
      "text/plain": [
       "<Figure size 432x288 with 1 Axes>"
      ]
     },
     "metadata": {
      "needs_background": "light"
     },
     "output_type": "display_data"
    }
   ],
   "source": [
    "# plots\n",
    "plt.scatter(admitted.iloc[:, 0], admitted.iloc[:, 1], s=10, label='Admitted')\n",
    "plt.scatter(not_admitted.iloc[:, 0], not_admitted.iloc[:, 1], s=10, label='Not Admitted')\n",
    "plt.legend()\n",
    "plt.show()"
   ]
  },
  {
   "cell_type": "code",
   "execution_count": 9,
   "id": "4c14b7a0",
   "metadata": {},
   "outputs": [],
   "source": [
    "\n",
    "# split into train and test\n",
    "from sklearn.model_selection import train_test_split\n",
    "x_train, x_test, y_train, y_test = train_test_split(X, y, test_size=0.25, random_state=0)\n"
   ]
  },
  {
   "cell_type": "code",
   "execution_count": 10,
   "id": "07f89704",
   "metadata": {},
   "outputs": [],
   "source": [
    "\n",
    "# create model\n",
    "from sklearn.linear_model import LogisticRegression\n",
    "\n",
    "modelSKL = LogisticRegression(C=1e20)\n"
   ]
  },
  {
   "cell_type": "code",
   "execution_count": 11,
   "id": "4c368e3e",
   "metadata": {},
   "outputs": [
    {
     "name": "stdout",
     "output_type": "stream",
     "text": [
      "[-24.18223853] [[0.19162887 0.19514148]]\n"
     ]
    }
   ],
   "source": [
    "# train model\n",
    "modelSKL.fit(x_train,y_train)\n",
    "\n",
    "print(modelSKL.intercept_, modelSKL.coef_)"
   ]
  },
  {
   "cell_type": "code",
   "execution_count": 12,
   "id": "21f32a76",
   "metadata": {},
   "outputs": [
    {
     "name": "stdout",
     "output_type": "stream",
     "text": [
      "[0 0 0 0 1 1 0 1 0 1 0 0 0 1 0 1 0 1 0 1 0 0 1 1 0]\n"
     ]
    }
   ],
   "source": [
    "\n",
    "# predict on X\n",
    "preds = modelSKL.predict(x_test)\n",
    "\n",
    "print(preds)"
   ]
  },
  {
   "cell_type": "code",
   "execution_count": 14,
   "id": "b7d0ec16",
   "metadata": {},
   "outputs": [
    {
     "name": "stdout",
     "output_type": "stream",
     "text": [
      "              precision    recall  f1-score   support\n",
      "\n",
      "           0       0.73      1.00      0.85        11\n",
      "           1       1.00      0.71      0.83        14\n",
      "\n",
      "    accuracy                           0.84        25\n",
      "   macro avg       0.87      0.86      0.84        25\n",
      "weighted avg       0.88      0.84      0.84        25\n",
      "\n"
     ]
    }
   ],
   "source": [
    "#\n",
    "\n",
    "from sklearn.metrics import classification_report\n",
    "print(classification_report(y_test, preds))"
   ]
  },
  {
   "cell_type": "code",
   "execution_count": 15,
   "id": "246b1fc4",
   "metadata": {},
   "outputs": [
    {
     "name": "stdout",
     "output_type": "stream",
     "text": [
      "[[11  0]\n",
      " [ 4 10]]\n"
     ]
    }
   ],
   "source": [
    "\n",
    "import matplotlib.pyplot as plt\n",
    "import seaborn as sns\n",
    "from sklearn import metrics\n",
    "\n",
    "cm = metrics.confusion_matrix(y_test, preds)\n",
    "print(cm)"
   ]
  },
  {
   "cell_type": "code",
   "execution_count": 16,
   "id": "a881f077",
   "metadata": {},
   "outputs": [
    {
     "data": {
      "text/plain": [
       "SVC(degree=8, kernel='linear')"
      ]
     },
     "execution_count": 16,
     "metadata": {},
     "output_type": "execute_result"
    }
   ],
   "source": [
    "\n",
    "# train the algorithm: linear kernel\n",
    "from sklearn.svm import SVC  \n",
    "svclassifier = SVC(kernel='linear', degree=8)  \n",
    "svclassifier.fit(x_train, y_train)  "
   ]
  },
  {
   "cell_type": "code",
   "execution_count": 17,
   "id": "6a4380c5",
   "metadata": {},
   "outputs": [],
   "source": [
    "\n",
    "# predict\n",
    "y_predSVM = svclassifier.predict(x_test)  "
   ]
  },
  {
   "cell_type": "code",
   "execution_count": 18,
   "id": "ac429831",
   "metadata": {},
   "outputs": [
    {
     "name": "stdout",
     "output_type": "stream",
     "text": [
      "              precision    recall  f1-score   support\n",
      "\n",
      "           0       0.79      1.00      0.88        11\n",
      "           1       1.00      0.79      0.88        14\n",
      "\n",
      "    accuracy                           0.88        25\n",
      "   macro avg       0.89      0.89      0.88        25\n",
      "weighted avg       0.91      0.88      0.88        25\n",
      "\n"
     ]
    }
   ],
   "source": [
    "\n",
    "print(classification_report(y_test, y_predSVM))"
   ]
  },
  {
   "cell_type": "code",
   "execution_count": 21,
   "id": "cc84cfa2",
   "metadata": {},
   "outputs": [
    {
     "name": "stdout",
     "output_type": "stream",
     "text": [
      "[[11  0]\n",
      " [ 3 11]]\n"
     ]
    }
   ],
   "source": [
    "\n",
    "cm = metrics.confusion_matrix(y_test, y_predSVM)\n",
    "print(cm)"
   ]
  },
  {
   "cell_type": "code",
   "execution_count": null,
   "id": "b51c3e9f",
   "metadata": {},
   "outputs": [],
   "source": []
  }
 ],
 "metadata": {
  "kernelspec": {
   "display_name": "base",
   "language": "python",
   "name": "python3"
  },
  "language_info": {
   "codemirror_mode": {
    "name": "ipython",
    "version": 3
   },
   "file_extension": ".py",
   "mimetype": "text/x-python",
   "name": "python",
   "nbconvert_exporter": "python",
   "pygments_lexer": "ipython3",
   "version": "3.9.13"
  },
  "vscode": {
   "interpreter": {
    "hash": "40d3a090f54c6569ab1632332b64b2c03c39dcf918b08424e98f38b5ae0af88f"
   }
  }
 },
 "nbformat": 4,
 "nbformat_minor": 5
}
